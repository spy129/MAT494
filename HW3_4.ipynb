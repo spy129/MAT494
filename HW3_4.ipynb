{
  "nbformat": 4,
  "nbformat_minor": 0,
  "metadata": {
    "colab": {
      "provenance": [],
      "authorship_tag": "ABX9TyMwJRfneCSJ9mQfRlxm9A/0",
      "include_colab_link": true
    },
    "kernelspec": {
      "name": "python3",
      "display_name": "Python 3"
    },
    "language_info": {
      "name": "python"
    }
  },
  "cells": [
    {
      "cell_type": "markdown",
      "metadata": {
        "id": "view-in-github",
        "colab_type": "text"
      },
      "source": [
        "<a href=\"https://colab.research.google.com/github/spy129/MAT494/blob/main/HW3_4.ipynb\" target=\"_parent\"><img src=\"https://colab.research.google.com/assets/colab-badge.svg\" alt=\"Open In Colab\"/></a>"
      ]
    },
    {
      "cell_type": "markdown",
      "source": [
        "# **3.4 Logistic Regression**"
      ],
      "metadata": {
        "id": "57VZ3E0d5UJD"
      }
    },
    {
      "cell_type": "markdown",
      "source": [
        "1. Breast cancer dataset"
      ],
      "metadata": {
        "id": "alurVABm5cgi"
      }
    },
    {
      "cell_type": "code",
      "execution_count": 1,
      "metadata": {
        "colab": {
          "base_uri": "https://localhost:8080/"
        },
        "id": "lNvLinbe5P-V",
        "outputId": "2351438f-1218-49a8-83cb-df4fdcce8e92"
      },
      "outputs": [
        {
          "output_type": "execute_result",
          "data": {
            "text/plain": [
              "(569, 30)"
            ]
          },
          "metadata": {},
          "execution_count": 1
        }
      ],
      "source": [
        "from sklearn.linear_model import LogisticRegression as LR\n",
        "from sklearn.datasets import load_breast_cancer\n",
        "from sklearn.datasets import load_iris\n",
        "import numpy as np\n",
        "import matplotlib.pyplot as plt\n",
        "from sklearn.model_selection import train_test_split\n",
        "from sklearn.metrics import accuracy_score\n",
        " \n",
        "# breast cancer dataset    \n",
        "data = load_breast_cancer()\n",
        "X = data.data\n",
        "y = data.target\n",
        "X.data.shape"
      ]
    },
    {
      "cell_type": "code",
      "source": [
        "lrl1 = LR(penalty=\"l1\",solver=\"liblinear\",C=0.5,max_iter=1000)\n",
        "lrl1 = lrl1.fit(X,y)\n",
        "lrl1.coef_\n",
        "\n",
        "(lrl1.coef_ != 0).sum(axis=1)#array([10])  \n",
        "\n",
        "lrl2 = LR(penalty=\"l2\",solver=\"liblinear\",C=0.5,max_iter=1000)\n",
        "lrl2 = lrl2.fit(X,y)\n",
        "lrl2.coef_"
      ],
      "metadata": {
        "colab": {
          "base_uri": "https://localhost:8080/"
        },
        "id": "0-ZrDTYe5fFH",
        "outputId": "41b6cce8-2e5e-4fe7-dc54-f810017fe6a0"
      },
      "execution_count": 2,
      "outputs": [
        {
          "output_type": "execute_result",
          "data": {
            "text/plain": [
              "array([[ 1.61331113e+00,  1.00124605e-01,  4.60084834e-02,\n",
              "        -4.19839432e-03, -9.26228937e-02, -3.00484301e-01,\n",
              "        -4.53250190e-01, -2.19778015e-01, -1.33074668e-01,\n",
              "        -1.92576286e-02,  1.89635811e-02,  8.74998561e-01,\n",
              "         1.32421950e-01, -9.53784314e-02, -9.62972408e-03,\n",
              "        -2.53596204e-02, -5.83890299e-02, -2.67755115e-02,\n",
              "        -2.73846616e-02, -8.05302929e-05,  1.28529688e+00,\n",
              "        -3.00088054e-01, -1.74310770e-01, -2.23545072e-02,\n",
              "        -1.70267493e-01, -8.77272211e-01, -1.15830085e+00,\n",
              "        -4.22526360e-01, -4.12406225e-01, -8.66393364e-02]])"
            ]
          },
          "metadata": {},
          "execution_count": 2
        }
      ]
    },
    {
      "cell_type": "markdown",
      "source": [
        "2. Iris dataset"
      ],
      "metadata": {
        "id": "59bhV5vg5h7J"
      }
    },
    {
      "cell_type": "code",
      "source": [
        "X, y = load_iris(return_X_y=True)\n",
        "\n",
        "\n",
        "clf = LR(random_state=0).fit(X, y)\n",
        "\n",
        "\n",
        "clf.predict(X[:3, :])"
      ],
      "metadata": {
        "colab": {
          "base_uri": "https://localhost:8080/"
        },
        "id": "Wmal4Mp25hIe",
        "outputId": "88f01128-5536-4dd7-a015-5ed0c2bb1365"
      },
      "execution_count": 4,
      "outputs": [
        {
          "output_type": "stream",
          "name": "stderr",
          "text": [
            "/usr/local/lib/python3.7/dist-packages/sklearn/linear_model/_logistic.py:818: ConvergenceWarning: lbfgs failed to converge (status=1):\n",
            "STOP: TOTAL NO. of ITERATIONS REACHED LIMIT.\n",
            "\n",
            "Increase the number of iterations (max_iter) or scale the data as shown in:\n",
            "    https://scikit-learn.org/stable/modules/preprocessing.html\n",
            "Please also refer to the documentation for alternative solver options:\n",
            "    https://scikit-learn.org/stable/modules/linear_model.html#logistic-regression\n",
            "  extra_warning_msg=_LOGISTIC_SOLVER_CONVERGENCE_MSG,\n"
          ]
        },
        {
          "output_type": "execute_result",
          "data": {
            "text/plain": [
              "array([0, 0, 0])"
            ]
          },
          "metadata": {},
          "execution_count": 4
        }
      ]
    },
    {
      "cell_type": "code",
      "source": [
        "clf.predict_proba(X[:3, :])"
      ],
      "metadata": {
        "id": "mpn5f1yC5oNT",
        "outputId": "99f96764-e5eb-406b-ca1a-522bfbdaa9f2",
        "colab": {
          "base_uri": "https://localhost:8080/"
        }
      },
      "execution_count": 6,
      "outputs": [
        {
          "output_type": "execute_result",
          "data": {
            "text/plain": [
              "array([[9.81801790e-01, 1.81981959e-02, 1.43556907e-08],\n",
              "       [9.71727348e-01, 2.82726221e-02, 3.00307256e-08],\n",
              "       [9.85451821e-01, 1.45481667e-02, 1.22669829e-08]])"
            ]
          },
          "metadata": {},
          "execution_count": 6
        }
      ]
    },
    {
      "cell_type": "code",
      "source": [
        "clf.score(X, y)"
      ],
      "metadata": {
        "id": "vqwdIIzM5qai",
        "outputId": "5b4d1e16-e925-45b0-8c68-b68c68eb2047",
        "colab": {
          "base_uri": "https://localhost:8080/"
        }
      },
      "execution_count": 7,
      "outputs": [
        {
          "output_type": "execute_result",
          "data": {
            "text/plain": [
              "0.9733333333333334"
            ]
          },
          "metadata": {},
          "execution_count": 7
        }
      ]
    }
  ]
}