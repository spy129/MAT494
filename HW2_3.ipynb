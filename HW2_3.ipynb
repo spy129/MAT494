{
  "nbformat": 4,
  "nbformat_minor": 0,
  "metadata": {
    "colab": {
      "provenance": [],
      "authorship_tag": "ABX9TyOziRQB4bhFYltqUMzDX9C7",
      "include_colab_link": true
    },
    "kernelspec": {
      "name": "python3",
      "display_name": "Python 3"
    },
    "language_info": {
      "name": "python"
    }
  },
  "cells": [
    {
      "cell_type": "markdown",
      "metadata": {
        "id": "view-in-github",
        "colab_type": "text"
      },
      "source": [
        "<a href=\"https://colab.research.google.com/github/spy129/MAT494/blob/main/HW2_3.ipynb\" target=\"_parent\"><img src=\"https://colab.research.google.com/assets/colab-badge.svg\" alt=\"Open In Colab\"/></a>"
      ]
    },
    {
      "cell_type": "markdown",
      "source": [
        "# **Conditional Probability**"
      ],
      "metadata": {
        "id": "tqN5domDC5-p"
      }
    },
    {
      "cell_type": "code",
      "execution_count": 3,
      "metadata": {
        "colab": {
          "base_uri": "https://localhost:8080/"
        },
        "id": "IVxVJkw4C3_E",
        "outputId": "f3e22690-f997-47cd-ab8c-950e48fdf7ed"
      },
      "outputs": [
        {
          "output_type": "stream",
          "name": "stdout",
          "text": [
            "P(both | older): 0.5007089325501317\n",
            "P(both | either): 0.3311897106109325\n"
          ]
        }
      ],
      "source": [
        "import enum, random\n",
        "class Kid(enum.Enum):\n",
        "    BOY = 1\n",
        "    GIRL = 3\n",
        "def random_kid() -> Kid:\n",
        "    return random.choice([Kid.BOY, Kid.GIRL])\n",
        "both_girls = 0\n",
        "older_girl = 0\n",
        "either_girl = 0\n",
        "random.seed(0)\n",
        "for _ in range(10000):\n",
        "    younger = random_kid()\n",
        "    older = random_kid()\n",
        "    if older == Kid.GIRL:\n",
        "        older_girl += 1\n",
        "    if older == Kid.GIRL and younger == Kid.GIRL:\n",
        "        both_girls += 1\n",
        "    if older == Kid.GIRL or younger == Kid.GIRL:\n",
        "        either_girl += 1\n",
        "print(\"P(both | older):\", both_girls / older_girl) \n",
        "print(\"P(both | either):\", both_girls / either_girl)"
      ]
    },
    {
      "cell_type": "markdown",
      "source": [
        "# **Correlation and Dependence**"
      ],
      "metadata": {
        "id": "CpsdHOhODo5K"
      }
    },
    {
      "cell_type": "code",
      "source": [
        "from numpy import mean\n",
        "from numpy import std\n",
        "from numpy.random import randn\n",
        "from numpy.random import seed\n",
        "from matplotlib import pyplot\n",
        "\n",
        "seed(1)\n",
        "\n",
        "data1 = 10 * randn(50) + 100\n",
        "data2 = data1 + (5 * randn(50) + 10)\n",
        "\n",
        "print('data1: mean=%.3f stdv=%.3f' % (mean(data1), std(data1)))\n",
        "print('data2: mean=%.3f stdv=%.3f' % (mean(data2), std(data2)))\n",
        "\n",
        "pyplot.scatter(data1, data2)\n",
        "pyplot.show()"
      ],
      "metadata": {
        "colab": {
          "base_uri": "https://localhost:8080/",
          "height": 302
        },
        "id": "wnUlPpi2DY4V",
        "outputId": "5afa552e-c05b-4495-aa04-da7ac63a22d8"
      },
      "execution_count": 8,
      "outputs": [
        {
          "output_type": "stream",
          "name": "stdout",
          "text": [
            "data1: mean=99.745 stdv=9.696\n",
            "data2: mean=110.478 stdv=10.373\n"
          ]
        },
        {
          "output_type": "display_data",
          "data": {
            "text/plain": [
              "<Figure size 432x288 with 1 Axes>"
            ],
            "image/png": "[encoded data removed]"
          },
          "metadata": {
            "needs_background": "light"
          }
        }
      ]
    },
    {
      "cell_type": "code",
      "source": [
        "\n",
        "from numpy.random import randn\n",
        "from numpy.random import seed\n",
        "from numpy import cov\n",
        "\n",
        "seed(1)\n",
        "\n",
        "data1 = 10 * randn(50) + 100\n",
        "data2 = data1 + (5 * randn(50) + 10)\n",
        "\n",
        "covariance = cov(data1, data2)\n",
        "print(covariance)\n",
        "\n",
        "from numpy.random import randn\n",
        "from numpy.random import seed\n",
        "from numpy import cov\n",
        "\n",
        "seed(1)\n",
        "\n",
        "data1 = 10 * randn(50) + 100\n",
        "data2 = data1 + (5 * randn(50) + 10)\n",
        "                 \n",
        "\n",
        "covariance = cov(data1, data2)\n",
        "print(covariance)"
      ],
      "metadata": {
        "colab": {
          "base_uri": "https://localhost:8080/"
        },
        "id": "gBuBeCF4DtmN",
        "outputId": "cda917aa-cf2c-4301-b37f-3924ddcb9469"
      },
      "execution_count": 12,
      "outputs": [
        {
          "output_type": "stream",
          "name": "stdout",
          "text": [
            "[[ 95.92891608  95.05611284]\n",
            " [ 95.05611284 109.79744327]]\n",
            "[[ 95.92891608  95.05611284]\n",
            " [ 95.05611284 109.79744327]]\n"
          ]
        }
      ]
    },
    {
      "cell_type": "markdown",
      "source": [
        "# **Pearson's Correlation**"
      ],
      "metadata": {
        "id": "5dH9-adpD9Fa"
      }
    },
    {
      "cell_type": "code",
      "source": [
        "from numpy.random import randn\n",
        "from numpy.random import seed\n",
        "from scipy.stats import pearsonr\n",
        "\n",
        "seed(1)\n",
        "\n",
        "data1 = 10 * randn(50) + 100\n",
        "data2 = data1 + (5 * randn(50) + 10)\n",
        "\n",
        "corr, _ = pearsonr(data1, data2)\n",
        "print('Pearsons correlation: %.3f' % corr)\n",
        "\n",
        "from numpy.random import randn\n",
        "from numpy.random import seed\n",
        "from scipy.stats import pearsonr\n",
        "\n",
        "seed(1)\n",
        "\n",
        "data1 = 10 * randn(50) + 100\n",
        "data2 = data1 + (5 * randn(50) + 10)\n",
        "\n",
        "corr, _ = pearsonr(data1, data2)\n",
        "print('Pearsons correlation: %.3f' % corr)"
      ],
      "metadata": {
        "colab": {
          "base_uri": "https://localhost:8080/"
        },
        "id": "P1pFzfh6D_vJ",
        "outputId": "7e3ee0f2-eb29-4899-86bc-a2c438682f16"
      },
      "execution_count": 11,
      "outputs": [
        {
          "output_type": "stream",
          "name": "stdout",
          "text": [
            "Pearsons correlation: 0.926\n",
            "Pearsons correlation: 0.926\n"
          ]
        }
      ]
    },
    {
      "cell_type": "markdown",
      "source": [
        "# **Random Samples in Python**"
      ],
      "metadata": {
        "id": "fjmljpBVEPKB"
      }
    },
    {
      "cell_type": "code",
      "source": [
        "from random import sample\n",
        "  \n",
        "\n",
        "list1 = [1, 2, 3, 4, 5] \n",
        "print(sample(list1,4))"
      ],
      "metadata": {
        "colab": {
          "base_uri": "https://localhost:8080/"
        },
        "id": "eK-M_qP6ERVM",
        "outputId": "51d1aca1-0fcc-4695-e6f3-1d55844481d5"
      },
      "execution_count": 16,
      "outputs": [
        {
          "output_type": "stream",
          "name": "stdout",
          "text": [
            "[5, 3, 4, 2]\n"
          ]
        }
      ]
    },
    {
      "cell_type": "code",
      "source": [
        "import random\n",
        "  \n",
        "  \n",
        "\n",
        "list1 = [1, 2, 3, 4, 5, 6] \n",
        "print(\"With list:\", random.sample(list1, 3))\n",
        "  \n",
        "\n",
        "string = \"GeeksforGeeks\"\n",
        "print(\"With string:\", random.sample(string, 4))\n",
        "  \n",
        "\n",
        "tuple1 = (\"ankit\", \"geeks\", \"computer\", \"science\",\n",
        "                   \"portal\", \"scientist\", \"btech\")\n",
        "print(\"With tuple:\", random.sample(tuple1, 4))\n",
        "  \n",
        "  \n",
        "\n",
        "set1 = {\"a\", \"b\", \"c\", \"d\", \"e\"}\n",
        "print(\"With set:\", random.sample(set1, 3))"
      ],
      "metadata": {
        "colab": {
          "base_uri": "https://localhost:8080/"
        },
        "id": "Tlhn11CREYVO",
        "outputId": "8020d927-fb0f-4880-feca-a4caba0e3ff8"
      },
      "execution_count": 17,
      "outputs": [
        {
          "output_type": "stream",
          "name": "stdout",
          "text": [
            "With list: [5, 4, 3]\n",
            "With string: ['r', 'k', 'e', 'e']\n",
            "With tuple: ['ankit', 'portal', 'science', 'scientist']\n",
            "With set: ['c', 'b', 'a']\n"
          ]
        }
      ]
    }
  ]
}