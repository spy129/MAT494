{
  "nbformat": 4,
  "nbformat_minor": 0,
  "metadata": {
    "colab": {
      "provenance": [],
      "authorship_tag": "ABX9TyN8DyrOM/bvAEEZ2KA5KwzG",
      "include_colab_link": true
    },
    "kernelspec": {
      "name": "python3",
      "display_name": "Python 3"
    },
    "language_info": {
      "name": "python"
    }
  },
  "cells": [
    {
      "cell_type": "markdown",
      "metadata": {
        "id": "view-in-github",
        "colab_type": "text"
      },
      "source": [
        "<a href=\"https://colab.research.google.com/github/spy129/MAT494/blob/main/HW2_2.ipynb\" target=\"_parent\"><img src=\"https://colab.research.google.com/assets/colab-badge.svg\" alt=\"Open In Colab\"/></a>"
      ]
    },
    {
      "cell_type": "markdown",
      "source": [
        "# **2.Probability**"
      ],
      "metadata": {
        "id": "0Mod2rOXt_aA"
      }
    },
    {
      "cell_type": "markdown",
      "source": [
        "1.Possion distribution"
      ],
      "metadata": {
        "id": "owJTBvqquHX9"
      }
    },
    {
      "cell_type": "code",
      "execution_count": 6,
      "metadata": {
        "colab": {
          "base_uri": "https://localhost:8080/"
        },
        "id": "j9I0HSVat1mN",
        "outputId": "bd75e9d7-ccbb-47c2-ccc2-3e4e0b8e5d20"
      },
      "outputs": [
        {
          "output_type": "execute_result",
          "data": {
            "text/plain": [
              "True"
            ]
          },
          "metadata": {},
          "execution_count": 6
        }
      ],
      "source": [
        "from scipy.stats import poisson\n",
        "import matplotlib.pyplot as plt\n",
        "import numpy as np\n",
        "fig,ax = plt.subplots(1,1)\n",
        "%matplotlib inline\n",
        "mu = 0.6\n",
        "mean, var, skew, kurt = poisson.stats(mu, moments='mvsk')\n",
        "x = np.arange(poisson.ppf(0.01, mu), poisson.ppf(0.99, mu))\n",
        "ax.plot(x, poisson.pmf(x, mu), 'bo', ms=8, label='poisson pmf')\n",
        "ax.vlines(x, 0, poisson.pmf(x, mu), colors='b', lw=5, alpha=0.5)\n",
        "%matplotlib inline \n",
        "rv = poisson(mu)\n",
        "ax.vlines(x, 0, rv.pmf(x), colors='k', linestyles='-', lw=1, label='frozen pmf')\n",
        "ax.legend(loc='best', frameon=False)\n",
        "%matplotlib inline \n",
        "plt.show()\n",
        "prob = poisson.cdf(x, mu)\n",
        "np.allclose(x, poisson.ppf(prob, mu))"
      ]
    },
    {
      "cell_type": "markdown",
      "source": [
        "2.Binomial distribution"
      ],
      "metadata": {
        "id": "EvEbh9QnuvD5"
      }
    },
    {
      "cell_type": "code",
      "source": [
        "from scipy.stats import binom\n",
        "import matplotlib.pyplot as plt\n",
        "n, p = 5, 0.4\n",
        "mean, var, skew, kurt = binom.stats(n, p, moments='mvsk')\n",
        "x = np.arange(binom.ppf(0.01, n, p), binom.ppf(0.99, n, p))\n",
        "ax.plot(x, binom.pmf(x, n, p), 'bo', ms=8, label='binom pmf')\n",
        "ax.vlines(x, 0, binom.pmf(x, n, p), colors='b', lw=5, alpha=0.5)"
      ],
      "metadata": {
        "colab": {
          "base_uri": "https://localhost:8080/"
        },
        "id": "gZK117WHuxib",
        "outputId": "27a05d99-cd37-4834-e504-e881cf2d8cda"
      },
      "execution_count": 10,
      "outputs": [
        {
          "output_type": "execute_result",
          "data": {
            "text/plain": [
              "<matplotlib.collections.LineCollection at 0x7f93b46b7450>"
            ]
          },
          "metadata": {},
          "execution_count": 10
        }
      ]
    },
    {
      "cell_type": "code",
      "source": [
        "rv = binom(n, p)\n",
        "ax.vlines(x, 0, rv.pmf(x), colors='k', linestyles='-', lw=1, label='frozen pmf')\n",
        "ax.legend(loc='best', frameon=False)\n",
        "plt.show()\n",
        "prob = binom.cdf(x, n, p)\n",
        "np.allclose(x, binom.ppf(prob, n, p))"
      ],
      "metadata": {
        "colab": {
          "base_uri": "https://localhost:8080/"
        },
        "id": "oJyRGvdavIv0",
        "outputId": "6f302224-9f7c-4dc3-e597-e1b20d49e739"
      },
      "execution_count": 13,
      "outputs": [
        {
          "output_type": "execute_result",
          "data": {
            "text/plain": [
              "True"
            ]
          },
          "metadata": {},
          "execution_count": 13
        }
      ]
    }
  ]
}